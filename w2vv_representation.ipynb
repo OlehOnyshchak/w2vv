{
 "cells": [
  {
   "cell_type": "code",
   "execution_count": 1,
   "metadata": {},
   "outputs": [
    {
     "name": "stderr",
     "output_type": "stream",
     "text": [
      "Using TensorFlow backend.\n"
     ]
    },
    {
     "name": "stdout",
     "output_type": "stream",
     "text": [
      "10/12/2019 12:44:45 INFO [util/text2vec.pyc.AveWord2VecFilterStop] initializing ...\n",
      "[BigFile] 1743364x500 instances loaded from /home/oleh/VisualSearch/word2vec/flickr/vec500flickr30m\n"
     ]
    }
   ],
   "source": [
    "import os\n",
    "from util.text2vec import get_text_encoder\n",
    "\n",
    "rootpath=os.path.join(os.environ['HOME'],'VisualSearch')\n",
    "w2v_style = \"word2vec_filterstop\"\n",
    "w2v_data_path = os.path.join(rootpath, \"word2vec\", 'flickr', 'vec500flickr30m')\n",
    "w2v2vec = get_text_encoder(w2v_style)(w2v_data_path)"
   ]
  },
  {
   "cell_type": "code",
   "execution_count": 2,
   "metadata": {
    "scrolled": false
   },
   "outputs": [
    {
     "name": "stdout",
     "output_type": "stream",
     "text": [
      "CPU times: user 2min 11s, sys: 6.23 s, total: 2min 18s\n",
      "Wall time: 2min 18s\n"
     ]
    }
   ],
   "source": [
    "%%time\n",
    "\n",
    "def get_text_features(filepath):\n",
    "    parsed_text = []\n",
    "    \n",
    "    with open(filepath) as f:\n",
    "        for i, line in enumerate(f):\n",
    "#             if i % 100 == 0: print(\"iteration \", i)\n",
    "            \n",
    "            line_id, text = line.rstrip().split(\" \", 1)\n",
    "            w2v_res = w2v2vec.mapping(text)\n",
    "            text_features = w2v_res if w2v_res is not None else [0] * w2v2vec.ndims\n",
    "            \n",
    "            img_id, _, num = line_id.split(\"#\")\n",
    "            parsed_text.append({\n",
    "                \"img_id\": img_id,\n",
    "                \"num\": num,\n",
    "                \"features\": text_features\n",
    "            })\n",
    "        \n",
    "    return parsed_text\n",
    "\n",
    "filepath = ['/home/oleh/VisualSearch/data_w2vvtest/TextData/data_w2vvtest.caption.txt',\n",
    "           '/home/oleh/VisualSearch/data_w2vvval/TextData/data_w2vvval.caption.txt',\n",
    "           '/home/oleh/VisualSearch/data_w2vvtrain/TextData/data_w2vvtrain.caption.txt']\n",
    "\n",
    "text_features = []\n",
    "for f in filepath:\n",
    "    text_features += get_text_features(f)"
   ]
  },
  {
   "cell_type": "code",
   "execution_count": 3,
   "metadata": {
    "scrolled": true
   },
   "outputs": [],
   "source": [
    "from sklearn.model_selection import train_test_split\n",
    "from util.losser import get_losser\n",
    "import numpy as np\n",
    "\n",
    "\n",
    "X = np.array([x for x in text_features if x['num'] == \"1\"])\n",
    "y = np.array([x for x in text_features if x['num'] == \"0\"])\n",
    "\n",
    "X_train, X_test, y_train, y_test = train_test_split(\n",
    "    X, y, test_size=1000, random_state=1234\n",
    ")\n",
    "\n",
    "y_features = np.array([x[\"features\"] for x in y])\n",
    "X_test_features = np.array([x[\"features\"] for x in X_test])\n",
    "\n",
    "losser = get_losser(\"cosine\")()"
   ]
  },
  {
   "cell_type": "code",
   "execution_count": 4,
   "metadata": {},
   "outputs": [
    {
     "data": {
      "text/plain": [
       "(1000, 45643)"
      ]
     },
     "execution_count": 4,
     "metadata": {},
     "output_type": "execute_result"
    }
   ],
   "source": [
    "similarity = np.array(losser.calculate(X_test_features, y_features))\n",
    "similarity.shape"
   ]
  },
  {
   "cell_type": "code",
   "execution_count": 5,
   "metadata": {},
   "outputs": [],
   "source": [
    "predictions = []\n",
    "for s in similarity:\n",
    "    top_indeces = s.argsort()[:10]\n",
    "    predictions.append([x[\"img_id\"] for x in y[top_indeces]])"
   ]
  },
  {
   "cell_type": "code",
   "execution_count": 7,
   "metadata": {},
   "outputs": [],
   "source": [
    "list2str = lambda l: \" \".join([str(x) for x in l])\n",
    "\n",
    "with open('text_similiarity_result.txt', 'w') as f:\n",
    "    for i in range(len(predictions)):\n",
    "        img_id = X_test[i][\"img_id\"]\n",
    "        \n",
    "        f.write('%s#%s\\n' % (img_id, list2str(predictions[i])))"
   ]
  },
  {
   "cell_type": "markdown",
   "metadata": {},
   "source": [
    "# Word2VisualVec for Sentence Representation"
   ]
  },
  {
   "cell_type": "markdown",
   "metadata": {},
   "source": [
    "This note answers the following two questions:\n",
    "1. How to load a trained Word2VisualVec model?\n",
    "2. How to predict visual features from a new sentence?"
   ]
  },
  {
   "cell_type": "markdown",
   "metadata": {},
   "source": [
    "## 0. Setup"
   ]
  },
  {
   "cell_type": "markdown",
   "metadata": {},
   "source": [
    "Use the following script to download and extract a Word2VisalVec model trained on flickr30k.\n",
    "Notice that please refer to [here](https://github.com/danieljf24/w2vv#required-data) to download the dataset \n",
    "\n",
    "\n",
    "```shell\n",
    "ROOTPATH=$HOME/trained_w2vv_model\n",
    "mkdir -p $ROOTPATH && cd $ROOTPATH\n",
    "\n",
    "# download and extract the pre-trained model\n",
    "wget http://lixirong.net/data/w2vv-tmm2018/flickr30k_trained_model.tar.gz\n",
    "tar zxf flickr30k_trained_model.tar.gz\n",
    "```"
   ]
  },
  {
   "cell_type": "code",
   "execution_count": 1,
   "metadata": {},
   "outputs": [
    {
     "name": "stderr",
     "output_type": "stream",
     "text": [
      "Using TensorFlow backend.\n"
     ]
    }
   ],
   "source": [
    "import os\n",
    "import keras\n",
    "from basic.common import readPkl\n",
    "from w2vv_pred import W2VV_MS_pred, pred_mutual_error_ms\n",
    "from util.text import encode_text\n",
    "from util.text2vec import get_text_encoder\n",
    "from util.util import readImgSents \n",
    "from simpleknn.bigfile import BigFile\n",
    "from util.losser import get_losser\n",
    "from util.evaluation import i2t"
   ]
  },
  {
   "cell_type": "code",
   "execution_count": 2,
   "metadata": {},
   "outputs": [],
   "source": [
    "use_flickr = False\n",
    "\n",
    "model_name = \"flickr30k_trained_model\" if use_flickr else \"14_epoch_1000_descr\"\n",
    "# model_name = \"flickr30k_trained_model\" if use_flickr else \"1000chars_description_trained_model\"\n",
    "trainCollection = \"flickr30kenctrain\" if use_flickr else 'data_w2vvtrain'\n",
    "testCollection='data_w2vvtest'"
   ]
  },
  {
   "cell_type": "markdown",
   "metadata": {},
   "source": [
    "## 1. Load a trained Word2Visual model"
   ]
  },
  {
   "cell_type": "code",
   "execution_count": 3,
   "metadata": {},
   "outputs": [
    {
     "name": "stdout",
     "output_type": "stream",
     "text": [
      "WARNING:tensorflow:From /usr/local/lib/python2.7/dist-packages/tensorflow_core/python/ops/resource_variable_ops.py:1630: calling __init__ (from tensorflow.python.ops.resource_variable_ops) with constraint is deprecated and will be removed in a future version.\n",
      "Instructions for updating:\n",
      "If using Keras pass *_constraint arguments to layers.\n",
      "10/12/2019 14:08:51 INFO [w2vv_pred.pyc.W2VV_MS_pred] loaded a trained Word2VisualVec model successfully\n"
     ]
    }
   ],
   "source": [
    "model_path = os.path.join(os.environ['HOME'],'trained_w2vv_model/' + model_name)\n",
    "abs_model_path = os.path.join(model_path, 'model.json')\n",
    "weight_path = os.path.join(model_path, 'best_model.h5')\n",
    "predictor = W2VV_MS_pred(abs_model_path, weight_path)"
   ]
  },
  {
   "cell_type": "markdown",
   "metadata": {},
   "source": [
    "## 2. Precision of prediction on test dataset"
   ]
  },
  {
   "cell_type": "code",
   "execution_count": 6,
   "metadata": {},
   "outputs": [
    {
     "name": "stdout",
     "output_type": "stream",
     "text": [
      "10/12/2019 14:08:58 INFO [util/text2vec.pyc.Index2Vec] initializing ...\n",
      "10/12/2019 14:08:58 INFO [util/text2vec.pyc.BoW2VecFilterStop] initializing ...\n",
      "10/12/2019 14:08:58 INFO [util/text2vec.pyc.BoW2VecFilterStop] 50105 words\n",
      "10/12/2019 14:08:58 INFO [util/text2vec.pyc.AveWord2VecFilterStop] initializing ...\n",
      "[BigFile] 1743364x500 instances loaded from /home/oleh/VisualSearch/word2vec/flickr/vec500flickr30m\n"
     ]
    }
   ],
   "source": [
    "# setup multi-scale sentence vectorization\n",
    "opt = readPkl(os.path.join(model_path, 'option.pkl'))\n",
    "# opt.n_caption = 2\n",
    "\n",
    "rootpath=os.path.join(os.environ['HOME'],'VisualSearch')\n",
    "rnn_style, bow_style, w2v_style = opt.text_style.strip().split('@')\n",
    "text_data_path = os.path.join(rootpath, trainCollection, \"TextData\", \"vocabulary\", \"bow\", opt.rnn_vocab)\n",
    "bow_data_path = os.path.join(rootpath, trainCollection, \"TextData\", \"vocabulary\", bow_style, opt.bow_vocab)\n",
    "w2v_data_path = os.path.join(rootpath, \"word2vec\", opt.corpus,  opt.word2vec)\n",
    "\n",
    "text2vec = get_text_encoder(rnn_style)(text_data_path)\n",
    "bow2vec = get_text_encoder(bow_style)(bow_data_path)\n",
    "w2v2vec = get_text_encoder(w2v_style)(w2v_data_path)\n",
    "\n",
    "# similarity function\n",
    "losser = get_losser(opt.simi_fun)()"
   ]
  },
  {
   "cell_type": "code",
   "execution_count": 6,
   "metadata": {},
   "outputs": [
    {
     "name": "stdout",
     "output_type": "stream",
     "text": [
      "[BigFile] 45643x2048 instances loaded from /home/oleh/VisualSearch/data_w2vvtest/FeatureData/pyresnet152-pool5os\n",
      "embedding all sentences ...\n",
      "len(text_batch) 2000\n",
      "len(text_batch[0]) 50605\n",
      "len(text_rnn_batch) 2000\n",
      "WARNING:tensorflow:From /usr/local/lib/python2.7/dist-packages/keras/backend/tensorflow_backend.py:422: The name tf.global_variables is deprecated. Please use tf.compat.v1.global_variables instead.\n",
      "\n",
      "embedding all images ...\n",
      "matching image and text ...\n",
      "(2000, 1000)\n",
      "Image to text: 22.6, 42.8, 52.6, 9.0, 60.7\n"
     ]
    }
   ],
   "source": [
    "# img2vec\n",
    "img_feats_path = os.path.join(rootpath, testCollection, 'FeatureData', opt.img_feature)\n",
    "img_feats = BigFile(img_feats_path)\n",
    "\n",
    "test_sent_file = os.path.join(rootpath, testCollection, 'TextData','%s.caption.txt' % testCollection)\n",
    "img_list, sents_id, sents = readImgSents(test_sent_file)\n",
    "all_errors = pred_mutual_error_ms(img_list, sents, predictor, text2vec, bow2vec, w2v2vec, img_feats, losser, opt=opt)\n",
    "\n",
    "\n",
    "# compute performance\n",
    "(r1i, r5i, r10i, medri, meanri) = i2t(all_errors, n_caption=opt.n_caption)\n",
    "print \"Image to text: %.1f, %.1f, %.1f, %.1f, %.1f\" % (r1i, r5i, r10i, medri, meanri)"
   ]
  },
  {
   "cell_type": "markdown",
   "metadata": {},
   "source": [
    "Image to text(flickr run) : 45.6, 72.1, 81.5, 2.0, 13.3"
   ]
  },
  {
   "cell_type": "markdown",
   "metadata": {},
   "source": [
    "Image to text(up to 1000 words, vocab from flickr): 1.2, 3.3, 6.4, 115.0, 122.5"
   ]
  },
  {
   "cell_type": "markdown",
   "metadata": {},
   "source": [
    "Image to text(entire article, flickr vocab): 0.4, 2.1, 3.7, 362.0, 405.4"
   ]
  },
  {
   "cell_type": "markdown",
   "metadata": {},
   "source": [
    "## 3. Specific Output Example"
   ]
  },
  {
   "cell_type": "markdown",
   "metadata": {},
   "source": [
    "### Read Data"
   ]
  },
  {
   "cell_type": "code",
   "execution_count": 7,
   "metadata": {},
   "outputs": [],
   "source": [
    "import numpy as np\n",
    "import string\n",
    "import json\n",
    "import shutil\n",
    "\n",
    "import os\n",
    "from os import listdir, mkdir\n",
    "from os.path import isfile, isdir, join, exists, abspath\n",
    "from keras.preprocessing import image\n",
    "from IPython.display import display, Image\n",
    "import regex as re"
   ]
  },
  {
   "cell_type": "code",
   "execution_count": 8,
   "metadata": {},
   "outputs": [],
   "source": [
    "def _remove_punctuation(text):\n",
    "    return re.sub(ur\"\\p{P}+\", \"\", text)\n",
    "\n",
    "def _getJSON(path):\n",
    "    with open(path) as json_file:\n",
    "        return json.loads(json.load(json_file))\n",
    "\n",
    "def _getTextFeatures(text_path):\n",
    "    data = _getJSON(text_path)\n",
    "    text = _remove_punctuation(data['text'].replace(\"\\n\", \" \"))\n",
    "    text = text[:1000].rsplit(' ', 1)[0]\n",
    "    # onyshchak: only checking first 1000 characters, will need to extract summary propely\n",
    "    data[\"text\"] = text\n",
    "    return data\n",
    "\n",
    "def _getImagesMeta(path):\n",
    "    return _getJSON(path)['img_meta']\n",
    "\n",
    "def _getValidImagePaths(article_path):\n",
    "    img_path = join(article_path, 'img/')\n",
    "    return [join(img_path, f) for f in listdir(img_path) if isfile(join(img_path, f)) and f[-4:].lower() == \".jpg\"]\n",
    "\n",
    "def _dump(path, data):\n",
    "    with open(path, 'w', encoding='utf8') as outfile:\n",
    "        json.dump(data, outfile, indent=2, ensure_ascii=False)\n",
    "\n",
    "def GetArticleData(article_path):\n",
    "    article_data = _getTextFeatures(join(article_path, 'text.json'))\n",
    "    article_data[\"img\"] = _getImagesMeta(join(article_path, 'img/', 'meta.json'))\n",
    "    \n",
    "    return article_data\n",
    "\n",
    "def ReadArticles(data_path, offset=0, limit=None):\n",
    "    print(\"Reading in progress...\")\n",
    "    article_paths = [join(data_path, f) for f in listdir(data_path) if isdir(join(data_path, f))]\n",
    "    limit = limit if limit else len(article_paths) - offset\n",
    "    \n",
    "    articles = []\n",
    "    for i in range(offset, offset + limit):\n",
    "        path = article_paths[i]\n",
    "        if (i - offset + 1) % 251 == 0: print(i - offset, \"articles have been read\")\n",
    "        article_data = GetArticleData(path)\n",
    "        articles.append(article_data)\n",
    "        if len(articles) >= limit: break  # useless?\n",
    "        \n",
    "    print(limit, \"articles have been read\")\n",
    "    return articles"
   ]
  },
  {
   "cell_type": "code",
   "execution_count": 9,
   "metadata": {},
   "outputs": [],
   "source": [
    "import random\n",
    "import hashlib\n",
    "from urllib import quote\n",
    "\n",
    "random.seed(1234)\n",
    "\n",
    "def get_matched_article_id(img_features, articles):\n",
    "    for tries in range(50):\n",
    "        i = int(random.random() * len(articles))\n",
    "        page = articles[i]\n",
    "        text = page[\"text\"]\n",
    "        print(i, page['title'])\n",
    "        \n",
    "        rnn_vec, bow_w2v_vec = encode_text(opt, text2vec, bow2vec, w2v2vec, text)\n",
    "        predicted_features = predictor.predict_one(rnn_vec, bow_w2v_vec).reshape(1, -1)\n",
    "\n",
    "        similarity = np.array(losser.calculate(predicted_features, img_features)[0])\n",
    "        true_img = [x[\"filename\"] for x in page[\"img\"]]\n",
    "        for x in images[similarity.argsort()[:10]]:\n",
    "            if x[\"filename\"] in true_img:\n",
    "                print(\"FOUND\", x[\"filename\"])\n",
    "                print(x[\"url\"])\n",
    "                return i\n",
    "    return -1\n",
    "\n",
    "def get_url(img_title, size=600):\n",
    "    img_name = img_title.replace(\"\\\"\", \"\")\n",
    "    for forbidden in ':*?/\\\\ ':\n",
    "        img_name = img_name.replace(forbidden, '_')\n",
    "        \n",
    "    img_name = img_name.encode('utf-8')\n",
    "    url_prefix = \"https://upload.wikimedia.org/wikipedia/commons/thumb/\"\n",
    "    md5 = hashlib.md5(img_name).hexdigest()\n",
    "    sep = \"/\"\n",
    "    \n",
    "    img_name = quote(img_name)\n",
    "    url = url_prefix + sep.join((md5[0], md5[:2], img_name)) + sep + str(size) + \"px-\" + img_name\n",
    "    if url[-4:] != \".jpg\" and url[-4:] != \"jpeg\":\n",
    "        url += \".jpg\"\n",
    "        \n",
    "    return url"
   ]
  },
  {
   "cell_type": "code",
   "execution_count": 10,
   "metadata": {
    "scrolled": false
   },
   "outputs": [
    {
     "name": "stdout",
     "output_type": "stream",
     "text": [
      "Reading in progress...\n",
      "(250, 'articles have been read')\n",
      "(501, 'articles have been read')\n",
      "(752, 'articles have been read')\n",
      "(1003, 'articles have been read')\n",
      "(1254, 'articles have been read')\n",
      "(1505, 'articles have been read')\n",
      "(1756, 'articles have been read')\n",
      "(2007, 'articles have been read')\n",
      "(2258, 'articles have been read')\n",
      "(2509, 'articles have been read')\n",
      "(2760, 'articles have been read')\n",
      "(3011, 'articles have been read')\n",
      "(3262, 'articles have been read')\n",
      "(3513, 'articles have been read')\n",
      "(3764, 'articles have been read')\n",
      "(4015, 'articles have been read')\n",
      "(4266, 'articles have been read')\n",
      "(4517, 'articles have been read')\n",
      "(4768, 'articles have been read')\n",
      "(5019, 'articles have been read')\n",
      "(5270, 'articles have been read')\n",
      "(5521, 'articles have been read')\n",
      "(5638, 'articles have been read')\n",
      "CPU times: user 51.4 s, sys: 6.05 s, total: 57.5 s\n",
      "Wall time: 1min 2s\n"
     ]
    }
   ],
   "source": [
    "%%time\n",
    "articles = ReadArticles('../data/', offset=0, limit=None)"
   ]
  },
  {
   "cell_type": "code",
   "execution_count": 17,
   "metadata": {},
   "outputs": [],
   "source": [
    "images = {i[\"filename\"]: i for a in articles for i in a['img']}\n",
    "images = np.array([x for x in images.values() if \"features\" in x])"
   ]
  },
  {
   "cell_type": "markdown",
   "metadata": {},
   "source": [
    "### Text Similarity Model"
   ]
  },
  {
   "cell_type": "code",
   "execution_count": 11,
   "metadata": {},
   "outputs": [],
   "source": [
    "y = []\n",
    "predictions = []\n",
    "with open(\"text_similiarity_result.txt\") as f:\n",
    "    for i, line in enumerate(f):\n",
    "        label, pred = line.rstrip().split(\"#\")\n",
    "        y.append(label)\n",
    "        predictions.append(pred.split())"
   ]
  },
  {
   "cell_type": "code",
   "execution_count": 13,
   "metadata": {},
   "outputs": [
    {
     "data": {
      "text/plain": [
       "array([ 2.3,  7.8, 17.7], dtype=float32)"
      ]
     },
     "execution_count": 13,
     "metadata": {},
     "output_type": "execute_result"
    }
   ],
   "source": [
    "def get_precision(predictions, labels):\n",
    "    K1, K3, K10 = 0, 0, 0\n",
    "    for i in range(len(predictions)):\n",
    "        img_id = labels[i]\n",
    "        pred = predictions[i]\n",
    "    \n",
    "        if img_id == pred[0]:\n",
    "            K1 += 1\n",
    "        if img_id in pred[:3]:\n",
    "            K3 += 1\n",
    "        if img_id in pred:\n",
    "            K10 += 1\n",
    "    \n",
    "    return np.array([K1, K3, K10], dtype=np.float32) / len(predictions) * 100\n",
    "\n",
    "get_precision(predictions, y)"
   ]
  },
  {
   "cell_type": "code",
   "execution_count": 14,
   "metadata": {},
   "outputs": [],
   "source": [
    "get_article_by_img = lambda img_id: [a for a in articles for i in a['img'] if img_id in i[\"filename\"]][0]\n",
    "\n",
    "article_index = 17\n",
    "a = get_article_by_img(y[article_index])"
   ]
  },
  {
   "cell_type": "code",
   "execution_count": 15,
   "metadata": {
    "scrolled": true
   },
   "outputs": [
    {
     "data": {
      "text/html": [
       "<img src=\"https://upload.wikimedia.org/wikipedia/commons/thumb/9/9a/Autumn_on_Lake_Burley_Griffin.jpg/600px-Autumn_on_Lake_Burley_Griffin.jpg\"/>"
      ],
      "text/plain": [
       "<IPython.core.display.Image object>"
      ]
     },
     "metadata": {},
     "output_type": "display_data"
    },
    {
     "data": {
      "text/html": [
       "<img src=\"https://upload.wikimedia.org/wikipedia/commons/thumb/3/39/Black_Swans_Canberra.jpg/600px-Black_Swans_Canberra.jpg\"/>"
      ],
      "text/plain": [
       "<IPython.core.display.Image object>"
      ]
     },
     "metadata": {},
     "output_type": "display_data"
    },
    {
     "data": {
      "text/html": [
       "<img src=\"https://upload.wikimedia.org/wikipedia/commons/thumb/7/7d/Canberra_Prelim_Plan_by_WB_Griffin_1913.jpg/600px-Canberra_Prelim_Plan_by_WB_Griffin_1913.jpg\"/>"
      ],
      "text/plain": [
       "<IPython.core.display.Image object>"
      ]
     },
     "metadata": {},
     "output_type": "display_data"
    },
    {
     "data": {
      "text/html": [
       "<img src=\"https://upload.wikimedia.org/wikipedia/commons/thumb/1/1a/Captain_Cook_Memorial.jpg/600px-Captain_Cook_Memorial.jpg\"/>"
      ],
      "text/plain": [
       "<IPython.core.display.Image object>"
      ]
     },
     "metadata": {},
     "output_type": "display_data"
    },
    {
     "data": {
      "text/html": [
       "<img src=\"https://upload.wikimedia.org/wikipedia/commons/thumb/b/b9/Catamaran_LBG.jpg/600px-Catamaran_LBG.jpg\"/>"
      ],
      "text/plain": [
       "<IPython.core.display.Image object>"
      ]
     },
     "metadata": {},
     "output_type": "display_data"
    },
    {
     "data": {
      "text/html": [
       "<img src=\"https://upload.wikimedia.org/wikipedia/commons/thumb/a/a3/Commonwealth_Park_in_Canberra.jpg/600px-Commonwealth_Park_in_Canberra.jpg\"/>"
      ],
      "text/plain": [
       "<IPython.core.display.Image object>"
      ]
     },
     "metadata": {},
     "output_type": "display_data"
    },
    {
     "data": {
      "text/html": [
       "<img src=\"https://upload.wikimedia.org/wikipedia/commons/thumb/3/39/Griffins_triangle.jpg/600px-Griffins_triangle.jpg\"/>"
      ],
      "text/plain": [
       "<IPython.core.display.Image object>"
      ]
     },
     "metadata": {},
     "output_type": "display_data"
    },
    {
     "data": {
      "text/html": [
       "<img src=\"https://upload.wikimedia.org/wikipedia/commons/thumb/8/8f/Kings_Avenue_Bridge_on_Lake_Burley_Griffin.jpg/600px-Kings_Avenue_Bridge_on_Lake_Burley_Griffin.jpg\"/>"
      ],
      "text/plain": [
       "<IPython.core.display.Image object>"
      ]
     },
     "metadata": {},
     "output_type": "display_data"
    },
    {
     "data": {
      "text/html": [
       "<img src=\"https://upload.wikimedia.org/wikipedia/commons/thumb/c/c4/Kings_ave_bridge.jpg/600px-Kings_ave_bridge.jpg\"/>"
      ],
      "text/plain": [
       "<IPython.core.display.Image object>"
      ]
     },
     "metadata": {},
     "output_type": "display_data"
    },
    {
     "data": {
      "text/html": [
       "<img src=\"https://upload.wikimedia.org/wikipedia/commons/thumb/f/f3/Lake_Burley_Griffin%2C_East_Basin_2.JPG/600px-Lake_Burley_Griffin%2C_East_Basin_2.JPG.jpg\"/>"
      ],
      "text/plain": [
       "<IPython.core.display.Image object>"
      ]
     },
     "metadata": {},
     "output_type": "display_data"
    },
    {
     "data": {
      "text/html": [
       "<img src=\"https://upload.wikimedia.org/wikipedia/commons/thumb/2/23/Lake_Burley_Griffin_From_Black_Mountain_Tower_%28cropped%29.jpg/600px-Lake_Burley_Griffin_From_Black_Mountain_Tower_%28cropped%29.jpg\"/>"
      ],
      "text/plain": [
       "<IPython.core.display.Image object>"
      ]
     },
     "metadata": {},
     "output_type": "display_data"
    },
    {
     "data": {
      "text/html": [
       "<img src=\"https://upload.wikimedia.org/wikipedia/commons/thumb/8/8a/Lake_Burley_Griffin_map-01MJC.png/600px-Lake_Burley_Griffin_map-01MJC.png.jpg\"/>"
      ],
      "text/plain": [
       "<IPython.core.display.Image object>"
      ]
     },
     "metadata": {},
     "output_type": "display_data"
    },
    {
     "data": {
      "text/html": [
       "<img src=\"https://upload.wikimedia.org/wikipedia/commons/thumb/8/8c/Lake_burley_griffin04.jpg/600px-Lake_burley_griffin04.jpg\"/>"
      ],
      "text/plain": [
       "<IPython.core.display.Image object>"
      ]
     },
     "metadata": {},
     "output_type": "display_data"
    },
    {
     "data": {
      "text/html": [
       "<img src=\"https://upload.wikimedia.org/wikipedia/commons/thumb/f/f6/National_Carillon%2C_ACT_-_Rectilinear_projection.jpg/600px-National_Carillon%2C_ACT_-_Rectilinear_projection.jpg\"/>"
      ],
      "text/plain": [
       "<IPython.core.display.Image object>"
      ]
     },
     "metadata": {},
     "output_type": "display_data"
    },
    {
     "data": {
      "text/html": [
       "<img src=\"https://upload.wikimedia.org/wikipedia/commons/thumb/2/2f/Portrait_Menzies_1950s.jpg/600px-Portrait_Menzies_1950s.jpg\"/>"
      ],
      "text/plain": [
       "<IPython.core.display.Image object>"
      ]
     },
     "metadata": {},
     "output_type": "display_data"
    },
    {
     "data": {
      "text/html": [
       "<img src=\"https://upload.wikimedia.org/wikipedia/commons/thumb/3/36/Scrivener_Dam_-_Lightened.jpg/600px-Scrivener_Dam_-_Lightened.jpg\"/>"
      ],
      "text/plain": [
       "<IPython.core.display.Image object>"
      ]
     },
     "metadata": {},
     "output_type": "display_data"
    },
    {
     "data": {
      "text/html": [
       "<img src=\"https://upload.wikimedia.org/wikipedia/commons/thumb/b/b5/Southern_view_of_Canberra_from_Mount_Ainslie_lookout.jpg/600px-Southern_view_of_Canberra_from_Mount_Ainslie_lookout.jpg\"/>"
      ],
      "text/plain": [
       "<IPython.core.display.Image object>"
      ]
     },
     "metadata": {},
     "output_type": "display_data"
    },
    {
     "data": {
      "text/html": [
       "<img src=\"https://upload.wikimedia.org/wikipedia/commons/thumb/1/19/View_from_telstra_tower_at_sunset.jpg/600px-View_from_telstra_tower_at_sunset.jpg\"/>"
      ],
      "text/plain": [
       "<IPython.core.display.Image object>"
      ]
     },
     "metadata": {},
     "output_type": "display_data"
    },
    {
     "data": {
      "text/html": [
       "<img src=\"https://upload.wikimedia.org/wikipedia/commons/thumb/f/fc/Walterburleygriffin.jpg/600px-Walterburleygriffin.jpg\"/>"
      ],
      "text/plain": [
       "<IPython.core.display.Image object>"
      ]
     },
     "metadata": {},
     "output_type": "display_data"
    }
   ],
   "source": [
    "for x in a[\"img\"]:\n",
    "    img_url = get_url(x['title'])\n",
    "    display(Image(url=img_url))"
   ]
  },
  {
   "cell_type": "code",
   "execution_count": 18,
   "metadata": {
    "scrolled": true
   },
   "outputs": [
    {
     "data": {
      "text/html": [
       "<img src=\"https://upload.wikimedia.org/wikipedia/commons/thumb/3/39/Black_Swans_Canberra.jpg/600px-Black_Swans_Canberra.jpg\"/>"
      ],
      "text/plain": [
       "<IPython.core.display.Image object>"
      ]
     },
     "metadata": {},
     "output_type": "display_data"
    },
    {
     "data": {
      "text/html": [
       "<img src=\"https://upload.wikimedia.org/wikipedia/commons/thumb/8/8f/Kings_Avenue_Bridge_on_Lake_Burley_Griffin.jpg/600px-Kings_Avenue_Bridge_on_Lake_Burley_Griffin.jpg\"/>"
      ],
      "text/plain": [
       "<IPython.core.display.Image object>"
      ]
     },
     "metadata": {},
     "output_type": "display_data"
    },
    {
     "data": {
      "text/html": [
       "<img src=\"https://upload.wikimedia.org/wikipedia/commons/thumb/a/a3/Commonwealth_Park_in_Canberra.jpg/600px-Commonwealth_Park_in_Canberra.jpg\"/>"
      ],
      "text/plain": [
       "<IPython.core.display.Image object>"
      ]
     },
     "metadata": {},
     "output_type": "display_data"
    },
    {
     "data": {
      "text/html": [
       "<img src=\"https://upload.wikimedia.org/wikipedia/commons/thumb/b/b5/Southern_view_of_Canberra_from_Mount_Ainslie_lookout.jpg/600px-Southern_view_of_Canberra_from_Mount_Ainslie_lookout.jpg\"/>"
      ],
      "text/plain": [
       "<IPython.core.display.Image object>"
      ]
     },
     "metadata": {},
     "output_type": "display_data"
    },
    {
     "data": {
      "text/html": [
       "<img src=\"https://upload.wikimedia.org/wikipedia/commons/thumb/1/1a/Captain_Cook_Memorial.jpg/600px-Captain_Cook_Memorial.jpg\"/>"
      ],
      "text/plain": [
       "<IPython.core.display.Image object>"
      ]
     },
     "metadata": {},
     "output_type": "display_data"
    },
    {
     "data": {
      "text/html": [
       "<img src=\"https://upload.wikimedia.org/wikipedia/commons/thumb/c/c4/Kings_ave_bridge.jpg/600px-Kings_ave_bridge.jpg\"/>"
      ],
      "text/plain": [
       "<IPython.core.display.Image object>"
      ]
     },
     "metadata": {},
     "output_type": "display_data"
    },
    {
     "data": {
      "text/html": [
       "<img src=\"https://upload.wikimedia.org/wikipedia/commons/thumb/f/f6/National_Carillon%2C_ACT_-_Rectilinear_projection.jpg/600px-National_Carillon%2C_ACT_-_Rectilinear_projection.jpg\"/>"
      ],
      "text/plain": [
       "<IPython.core.display.Image object>"
      ]
     },
     "metadata": {},
     "output_type": "display_data"
    },
    {
     "data": {
      "text/html": [
       "<img src=\"https://upload.wikimedia.org/wikipedia/commons/thumb/8/8c/Lake_burley_griffin04.jpg/600px-Lake_burley_griffin04.jpg\"/>"
      ],
      "text/plain": [
       "<IPython.core.display.Image object>"
      ]
     },
     "metadata": {},
     "output_type": "display_data"
    },
    {
     "data": {
      "text/html": [
       "<img src=\"https://upload.wikimedia.org/wikipedia/commons/thumb/9/9a/Autumn_on_Lake_Burley_Griffin.jpg/600px-Autumn_on_Lake_Burley_Griffin.jpg\"/>"
      ],
      "text/plain": [
       "<IPython.core.display.Image object>"
      ]
     },
     "metadata": {},
     "output_type": "display_data"
    },
    {
     "data": {
      "text/html": [
       "<img src=\"https://upload.wikimedia.org/wikipedia/commons/thumb/3/39/Griffins_triangle.jpg/600px-Griffins_triangle.jpg\"/>"
      ],
      "text/plain": [
       "<IPython.core.display.Image object>"
      ]
     },
     "metadata": {},
     "output_type": "display_data"
    }
   ],
   "source": [
    "get_id = lambda filename: filename.rsplit('.', 1)[0]\n",
    "\n",
    "pred = predictions[article_index]\n",
    "pred_img = [i for i in images if get_id(i['filename']) in pred]\n",
    "for x in pred_img:\n",
    "    img_url = get_url(x['title'])\n",
    "    display(Image(url=img_url))"
   ]
  },
  {
   "cell_type": "code",
   "execution_count": 19,
   "metadata": {},
   "outputs": [
    {
     "data": {
      "text/plain": [
       "u'John Sidney McCain III August 29 1936\\xa0 August 25 2018 was an American politician and military officer who served as a United States senator from Arizona from January 1987 until his death in 2018 He previously served two terms in the United States House of Representatives and was the Republican nominee for president of the United States in the 2008 election which he lost to Barack Obama  McCain graduated from the United States Naval Academy in 1958 and received a commission in the United States Navy He became a naval aviator and flew groundattack aircraft from aircraft carriers During the Vietnam War he almost died in the 1967 USS Forrestal fire While on a bombing mission during Operation Rolling Thunder over Hanoi in October 1967 he was shot down seriously injured and captured by the North Vietnamese He was a prisoner of war until 1973 He experienced episodes of torture and refused an outofsequence early release During the war he sustained wounds that left him with lifelong physical'"
      ]
     },
     "execution_count": 19,
     "metadata": {},
     "output_type": "execute_result"
    }
   ],
   "source": [
    "a2 = get_article_by_img(\"eea20277ca3be6faca8b1e90b8364294\")\n",
    "a2[\"text\"]"
   ]
  },
  {
   "cell_type": "code",
   "execution_count": 20,
   "metadata": {
    "scrolled": true
   },
   "outputs": [
    {
     "data": {
      "text/html": [
       "<img src=\"https://upload.wikimedia.org/wikipedia/commons/thumb/b/b2/180829-Z-CZ735-248_%2843560303525%29.jpg/600px-180829-Z-CZ735-248_%2843560303525%29.jpg\"/>"
      ],
      "text/plain": [
       "<IPython.core.display.Image object>"
      ]
     },
     "metadata": {},
     "output_type": "display_data"
    },
    {
     "data": {
      "text/html": [
       "<img src=\"https://upload.wikimedia.org/wikipedia/commons/thumb/5/50/Bluetank.png/600px-Bluetank.png.jpg\"/>"
      ],
      "text/plain": [
       "<IPython.core.display.Image object>"
      ]
     },
     "metadata": {},
     "output_type": "display_data"
    },
    {
     "data": {
      "text/html": [
       "<img src=\"https://upload.wikimedia.org/wikipedia/commons/thumb/9/93/BushAndMcCains.jpg/600px-BushAndMcCains.jpg\"/>"
      ],
      "text/plain": [
       "<IPython.core.display.Image object>"
      ]
     },
     "metadata": {},
     "output_type": "display_data"
    },
    {
     "data": {
      "text/html": [
       "<img src=\"https://upload.wikimedia.org/wikipedia/commons/thumb/d/d8/Bush_Contact_Sheet_P16287_%28cropped%29.jpg/600px-Bush_Contact_Sheet_P16287_%28cropped%29.jpg\"/>"
      ],
      "text/plain": [
       "<IPython.core.display.Image object>"
      ]
     },
     "metadata": {},
     "output_type": "display_data"
    },
    {
     "data": {
      "text/html": [
       "<img src=\"https://upload.wikimedia.org/wikipedia/commons/thumb/1/18/Flickr_-_DVIDSHUB_-_Senators_visit_special_operations_forces_soldiers_in_eastern_Afghanistan_%28Image_6_of_15%29.jpg/600px-Flickr_-_DVIDSHUB_-_Senators_visit_special_operations_forces_soldiers_in_eastern_Afghanistan_%28Image_6_of_15%29.jpg\"/>"
      ],
      "text/plain": [
       "<IPython.core.display.Image object>"
      ]
     },
     "metadata": {},
     "output_type": "display_data"
    },
    {
     "data": {
      "text/html": [
       "<img src=\"https://upload.wikimedia.org/wikipedia/commons/thumb/8/83/Flickr_-_europeanpeoplesparty_-_EPP_in_the_USA_%2818%29.jpg/600px-Flickr_-_europeanpeoplesparty_-_EPP_in_the_USA_%2818%29.jpg\"/>"
      ],
      "text/plain": [
       "<IPython.core.display.Image object>"
      ]
     },
     "metadata": {},
     "output_type": "display_data"
    },
    {
     "data": {
      "text/html": [
       "<img src=\"https://upload.wikimedia.org/wikipedia/commons/thumb/8/82/George_W._Bush_and_John_McCain_at_the_Navy_goal_line_2004.jpg/600px-George_W._Bush_and_John_McCain_at_the_Navy_goal_line_2004.jpg\"/>"
      ],
      "text/plain": [
       "<IPython.core.display.Image object>"
      ]
     },
     "metadata": {},
     "output_type": "display_data"
    },
    {
     "data": {
      "text/html": [
       "<img src=\"https://upload.wikimedia.org/wikipedia/commons/thumb/8/89/John_McCain_%26_Mitt_Romney_%2823342266429%29.jpg/600px-John_McCain_%26_Mitt_Romney_%2823342266429%29.jpg\"/>"
      ],
      "text/plain": [
       "<IPython.core.display.Image object>"
      ]
     },
     "metadata": {},
     "output_type": "display_data"
    },
    {
     "data": {
      "text/html": [
       "<img src=\"https://upload.wikimedia.org/wikipedia/commons/thumb/5/54/John_McCain_19742.jpg/600px-John_McCain_19742.jpg\"/>"
      ],
      "text/plain": [
       "<IPython.core.display.Image object>"
      ]
     },
     "metadata": {},
     "output_type": "display_data"
    },
    {
     "data": {
      "text/html": [
       "<img src=\"https://upload.wikimedia.org/wikipedia/commons/thumb/f/f4/John_McCain_1983.jpg/600px-John_McCain_1983.jpg\"/>"
      ],
      "text/plain": [
       "<IPython.core.display.Image object>"
      ]
     },
     "metadata": {},
     "output_type": "display_data"
    },
    {
     "data": {
      "text/html": [
       "<img src=\"https://upload.wikimedia.org/wikipedia/commons/thumb/4/44/John_McCain_Votes_No_on_Obamacare_Repeal.jpg/600px-John_McCain_Votes_No_on_Obamacare_Repeal.jpg\"/>"
      ],
      "text/plain": [
       "<IPython.core.display.Image object>"
      ]
     },
     "metadata": {},
     "output_type": "display_data"
    },
    {
     "data": {
      "text/html": [
       "<img src=\"https://upload.wikimedia.org/wikipedia/commons/thumb/5/5b/John_McCain_official_photo_portrait-cropped-background_edit.JPG/600px-John_McCain_official_photo_portrait-cropped-background_edit.JPG.jpg\"/>"
      ],
      "text/plain": [
       "<IPython.core.display.Image object>"
      ]
     },
     "metadata": {},
     "output_type": "display_data"
    },
    {
     "data": {
      "text/html": [
       "<img src=\"https://upload.wikimedia.org/wikipedia/commons/thumb/4/47/John_McCain_official_photo_portrait.JPG/600px-John_McCain_official_photo_portrait.JPG.jpg\"/>"
      ],
      "text/plain": [
       "<IPython.core.display.Image object>"
      ]
     },
     "metadata": {},
     "output_type": "display_data"
    },
    {
     "data": {
      "text/html": [
       "<img src=\"https://upload.wikimedia.org/wikipedia/commons/thumb/e/e1/John_McCain_official_portrait_2009.jpg/600px-John_McCain_official_portrait_2009.jpg\"/>"
      ],
      "text/plain": [
       "<IPython.core.display.Image object>"
      ]
     },
     "metadata": {},
     "output_type": "display_data"
    },
    {
     "data": {
      "text/html": [
       "<img src=\"https://upload.wikimedia.org/wikipedia/commons/thumb/8/85/John_McCain_pork.png/600px-John_McCain_pork.png.jpg\"/>"
      ],
      "text/plain": [
       "<IPython.core.display.Image object>"
      ]
     },
     "metadata": {},
     "output_type": "display_data"
    },
    {
     "data": {
      "text/html": [
       "<img src=\"https://upload.wikimedia.org/wikipedia/commons/thumb/d/d7/John_McCain_wreath_laying_at_the_Vietnam_Veterans_Memorial_%2843686596314%29.jpg/600px-John_McCain_wreath_laying_at_the_Vietnam_Veterans_Memorial_%2843686596314%29.jpg\"/>"
      ],
      "text/plain": [
       "<IPython.core.display.Image object>"
      ]
     },
     "metadata": {},
     "output_type": "display_data"
    },
    {
     "data": {
      "text/html": [
       "<img src=\"https://upload.wikimedia.org/wikipedia/commons/thumb/4/4d/McCain2008MemorialDay.jpg/600px-McCain2008MemorialDay.jpg\"/>"
      ],
      "text/plain": [
       "<IPython.core.display.Image object>"
      ]
     },
     "metadata": {},
     "output_type": "display_data"
    },
    {
     "data": {
      "text/html": [
       "<img src=\"https://upload.wikimedia.org/wikipedia/commons/thumb/0/05/McCain25April2007Portsmouth.jpg/600px-McCain25April2007Portsmouth.jpg\"/>"
      ],
      "text/plain": [
       "<IPython.core.display.Image object>"
      ]
     },
     "metadata": {},
     "output_type": "display_data"
    },
    {
     "data": {
      "text/html": [
       "<img src=\"https://upload.wikimedia.org/wikipedia/commons/thumb/f/fa/McCainAndPetreaus.JPG/600px-McCainAndPetreaus.JPG.jpg\"/>"
      ],
      "text/plain": [
       "<IPython.core.display.Image object>"
      ]
     },
     "metadata": {},
     "output_type": "display_data"
    },
    {
     "data": {
      "text/html": [
       "<img src=\"https://upload.wikimedia.org/wikipedia/commons/thumb/0/04/McCainFatherandGrandfather.jpg/600px-McCainFatherandGrandfather.jpg\"/>"
      ],
      "text/plain": [
       "<IPython.core.display.Image object>"
      ]
     },
     "metadata": {},
     "output_type": "display_data"
    },
    {
     "data": {
      "text/html": [
       "<img src=\"https://upload.wikimedia.org/wikipedia/commons/thumb/4/46/McCainPalin1.jpg/600px-McCainPalin1.jpg\"/>"
      ],
      "text/plain": [
       "<IPython.core.display.Image object>"
      ]
     },
     "metadata": {},
     "output_type": "display_data"
    },
    {
     "data": {
      "text/html": [
       "<img src=\"https://upload.wikimedia.org/wikipedia/commons/thumb/4/4f/McCainWithSquadron.jpg/600px-McCainWithSquadron.jpg\"/>"
      ],
      "text/plain": [
       "<IPython.core.display.Image object>"
      ]
     },
     "metadata": {},
     "output_type": "display_data"
    },
    {
     "data": {
      "text/html": [
       "<img src=\"https://upload.wikimedia.org/wikipedia/commons/thumb/8/8a/McCain_at_Annapolis.JPG/600px-McCain_at_Annapolis.JPG.jpg\"/>"
      ],
      "text/plain": [
       "<IPython.core.display.Image object>"
      ]
     },
     "metadata": {},
     "output_type": "display_data"
    },
    {
     "data": {
      "text/html": [
       "<img src=\"https://upload.wikimedia.org/wikipedia/commons/thumb/f/ff/McCain_family_at_christening_of_USS_John_S._McCain_%28DDG-56%29.jpg/600px-McCain_family_at_christening_of_USS_John_S._McCain_%28DDG-56%29.jpg\"/>"
      ],
      "text/plain": [
       "<IPython.core.display.Image object>"
      ]
     },
     "metadata": {},
     "output_type": "display_data"
    },
    {
     "data": {
      "text/html": [
       "<img src=\"https://upload.wikimedia.org/wikipedia/commons/thumb/8/87/National_March_on_the_NRA_8040026.jpg/600px-National_March_on_the_NRA_8040026.jpg\"/>"
      ],
      "text/plain": [
       "<IPython.core.display.Image object>"
      ]
     },
     "metadata": {},
     "output_type": "display_data"
    },
    {
     "data": {
      "text/html": [
       "<img src=\"https://upload.wikimedia.org/wikipedia/commons/thumb/2/26/Phoenix-John_Mccain_House-1951-1.jpg/600px-Phoenix-John_Mccain_House-1951-1.jpg\"/>"
      ],
      "text/plain": [
       "<IPython.core.display.Image object>"
      ]
     },
     "metadata": {},
     "output_type": "display_data"
    },
    {
     "data": {
      "text/html": [
       "<img src=\"https://upload.wikimedia.org/wikipedia/commons/thumb/e/ee/President_Barack_Obama_and_Senator_John_McCain_press_conference.jpg/600px-President_Barack_Obama_and_Senator_John_McCain_press_conference.jpg\"/>"
      ],
      "text/plain": [
       "<IPython.core.display.Image object>"
      ]
     },
     "metadata": {},
     "output_type": "display_data"
    },
    {
     "data": {
      "text/html": [
       "<img src=\"https://upload.wikimedia.org/wikipedia/commons/thumb/b/b2/President_of_Ukraine_Petro_Poroshenko_bid_farewell_to_U.S._Senator_John_McCain_%288%29.jpg/600px-President_of_Ukraine_Petro_Poroshenko_bid_farewell_to_U.S._Senator_John_McCain_%288%29.jpg\"/>"
      ],
      "text/plain": [
       "<IPython.core.display.Image object>"
      ]
     },
     "metadata": {},
     "output_type": "display_data"
    },
    {
     "data": {
      "text/html": [
       "<img src=\"https://upload.wikimedia.org/wikipedia/commons/thumb/e/e8/Reagans_with_John_McCain_1987.jpg/600px-Reagans_with_John_McCain_1987.jpg\"/>"
      ],
      "text/plain": [
       "<IPython.core.display.Image object>"
      ]
     },
     "metadata": {},
     "output_type": "display_data"
    },
    {
     "data": {
      "text/html": [
       "<img src=\"https://upload.wikimedia.org/wikipedia/commons/thumb/b/b8/Richard_Nixon_Greets_John_McCain.jpg/600px-Richard_Nixon_Greets_John_McCain.jpg\"/>"
      ],
      "text/plain": [
       "<IPython.core.display.Image object>"
      ]
     },
     "metadata": {},
     "output_type": "display_data"
    },
    {
     "data": {
      "text/html": [
       "<img src=\"https://upload.wikimedia.org/wikipedia/commons/thumb/2/2b/Secretary_Kerry_and_Senator_McCain_Chat_With_Members_of_the_Saudi_Royal_Family.jpg/600px-Secretary_Kerry_and_Senator_McCain_Chat_With_Members_of_the_Saudi_Royal_Family.jpg\"/>"
      ],
      "text/plain": [
       "<IPython.core.display.Image object>"
      ]
     },
     "metadata": {},
     "output_type": "display_data"
    },
    {
     "data": {
      "text/html": [
       "<img src=\"https://upload.wikimedia.org/wikipedia/commons/thumb/6/6e/Sen_McCain_grave.jpg/600px-Sen_McCain_grave.jpg\"/>"
      ],
      "text/plain": [
       "<IPython.core.display.Image object>"
      ]
     },
     "metadata": {},
     "output_type": "display_data"
    },
    {
     "data": {
      "text/html": [
       "<img src=\"https://upload.wikimedia.org/wikipedia/commons/thumb/f/f7/Senator_McCain_Visits_Batumi_2010.jpg/600px-Senator_McCain_Visits_Batumi_2010.jpg\"/>"
      ],
      "text/plain": [
       "<IPython.core.display.Image object>"
      ]
     },
     "metadata": {},
     "output_type": "display_data"
    },
    {
     "data": {
      "text/html": [
       "<img src=\"https://upload.wikimedia.org/wikipedia/commons/thumb/1/11/U.S._Secretary_of_Defense_Ash_Carter_and_Senators_Joni_Ernst%2C_Daniel_Sullivan%2C_John_McCain%2C_Tom_Cotton%2C_Lindsey_Graham%2C_and_Cory_Gardner_attending_the_2016_International_Institute_for_Strategic_Studies_Asia_Security_Summit_in_Singapore.jpg/600px-U.S._Secretary_of_Defense_Ash_Carter_and_Senators_Joni_Ernst%2C_Daniel_Sullivan%2C_John_McCain%2C_Tom_Cotton%2C_Lindsey_Graham%2C_and_Cory_Gardner_attending_the_2016_International_Institute_for_Strategic_Studies_Asia_Security_Summit_in_Singapore.jpg\"/>"
      ],
      "text/plain": [
       "<IPython.core.display.Image object>"
      ]
     },
     "metadata": {},
     "output_type": "display_data"
    },
    {
     "data": {
      "text/html": [
       "<img src=\"https://upload.wikimedia.org/wikipedia/commons/thumb/4/4e/US_Navy_110128-N-3303D-001_Sen._John_McCain_and_his_wife%2C_Cindy%2C_watch_as_their_son%2C_Jimmy_McCain%2C_pins_aviator%27s_wings_on_his_brother%2C_Ensign_John.jpg/600px-US_Navy_110128-N-3303D-001_Sen._John_McCain_and_his_wife%2C_Cindy%2C_watch_as_their_son%2C_Jimmy_McCain%2C_pins_aviator%27s_wings_on_his_brother%2C_Ensign_John.jpg\"/>"
      ],
      "text/plain": [
       "<IPython.core.display.Image object>"
      ]
     },
     "metadata": {},
     "output_type": "display_data"
    },
    {
     "data": {
      "text/html": [
       "<img src=\"https://upload.wikimedia.org/wikipedia/commons/thumb/a/a3/%D0%9C%D0%B0%D0%BA%D0%BA%D0%B5%D0%B9%D0%BD_%D0%BD%D0%B0_%D0%84%D0%B2%D1%80%D0%BE%D0%BC%D0%B0%D0%B9%D0%B4%D0%B0%D0%BD%D1%96.jpg/600px-%D0%9C%D0%B0%D0%BA%D0%BA%D0%B5%D0%B9%D0%BD_%D0%BD%D0%B0_%D0%84%D0%B2%D1%80%D0%BE%D0%BC%D0%B0%D0%B9%D0%B4%D0%B0%D0%BD%D1%96.jpg\"/>"
      ],
      "text/plain": [
       "<IPython.core.display.Image object>"
      ]
     },
     "metadata": {},
     "output_type": "display_data"
    },
    {
     "data": {
      "text/html": [
       "<img src=\"https://upload.wikimedia.org/wikipedia/commons/thumb/5/5c/%E7%B8%BD%E7%B5%B1%E5%87%BA%E5%B8%AD%E6%8E%A5%E8%A6%8B%E7%BE%8E%E5%9C%8B%E8%81%AF%E9%82%A6%E5%8F%83%E8%AD%B0%E9%99%A2%E8%BB%8D%E4%BA%8B%E5%A7%94%E5%93%A1%E6%9C%83%E9%A6%AC%E4%BE%83%EF%BC%88John_McCain%EF%BC%89%E4%B8%BB%E5%B8%AD%E8%A8%AA%E5%95%8F%E5%9C%98_%2826882360893%29.jpg/600px-%E7%B8%BD%E7%B5%B1%E5%87%BA%E5%B8%AD%E6%8E%A5%E8%A6%8B%E7%BE%8E%E5%9C%8B%E8%81%AF%E9%82%A6%E5%8F%83%E8%AD%B0%E9%99%A2%E8%BB%8D%E4%BA%8B%E5%A7%94%E5%93%A1%E6%9C%83%E9%A6%AC%E4%BE%83%EF%BC%88John_McCain%EF%BC%89%E4%B8%BB%E5%B8%AD%E8%A8%AA%E5%95%8F%E5%9C%98_%2826882360893%29.jpg\"/>"
      ],
      "text/plain": [
       "<IPython.core.display.Image object>"
      ]
     },
     "metadata": {},
     "output_type": "display_data"
    }
   ],
   "source": [
    "for x in a2[\"img\"]:\n",
    "    img_url = get_url(x['title'])\n",
    "    display(Image(url=img_url))"
   ]
  },
  {
   "cell_type": "code",
   "execution_count": 21,
   "metadata": {
    "scrolled": true
   },
   "outputs": [
    {
     "data": {
      "text/html": [
       "<img src=\"https://upload.wikimedia.org/wikipedia/commons/thumb/c/cc/New_York_District_20_109th_US_Congress.png/600px-New_York_District_20_109th_US_Congress.png.jpg\"/>"
      ],
      "text/plain": [
       "<IPython.core.display.Image object>"
      ]
     },
     "metadata": {},
     "output_type": "display_data"
    },
    {
     "data": {
      "text/html": [
       "<img src=\"https://upload.wikimedia.org/wikipedia/commons/thumb/2/2d/National_Guard_at_2009_Inauguration.JPG/600px-National_Guard_at_2009_Inauguration.JPG.jpg\"/>"
      ],
      "text/plain": [
       "<IPython.core.display.Image object>"
      ]
     },
     "metadata": {},
     "output_type": "display_data"
    },
    {
     "data": {
      "text/html": [
       "<img src=\"https://upload.wikimedia.org/wikipedia/commons/thumb/3/30/George_W._Bush_in_Marine_One.jpg/600px-George_W._Bush_in_Marine_One.jpg\"/>"
      ],
      "text/plain": [
       "<IPython.core.display.Image object>"
      ]
     },
     "metadata": {},
     "output_type": "display_data"
    },
    {
     "data": {
      "text/html": [
       "<img src=\"https://upload.wikimedia.org/wikipedia/commons/thumb/4/4f/Tedisco_Headshot.jpeg/600px-Tedisco_Headshot.jpeg\"/>"
      ],
      "text/plain": [
       "<IPython.core.display.Image object>"
      ]
     },
     "metadata": {},
     "output_type": "display_data"
    },
    {
     "data": {
      "text/html": [
       "<img src=\"https://upload.wikimedia.org/wikipedia/commons/thumb/7/7f/ScottMurphyCampaignStop.jpg/600px-ScottMurphyCampaignStop.jpg\"/>"
      ],
      "text/plain": [
       "<IPython.core.display.Image object>"
      ]
     },
     "metadata": {},
     "output_type": "display_data"
    },
    {
     "data": {
      "text/html": [
       "<img src=\"https://upload.wikimedia.org/wikipedia/commons/thumb/e/ed/National_Prayer_Service_Obama_Inauguration.jpg/600px-National_Prayer_Service_Obama_Inauguration.jpg\"/>"
      ],
      "text/plain": [
       "<IPython.core.display.Image object>"
      ]
     },
     "metadata": {},
     "output_type": "display_data"
    },
    {
     "data": {
      "text/html": [
       "<img src=\"https://upload.wikimedia.org/wikipedia/commons/thumb/b/b1/Second_oath_of_office_of_Barack_Obama.jpg/600px-Second_oath_of_office_of_Barack_Obama.jpg\"/>"
      ],
      "text/plain": [
       "<IPython.core.display.Image object>"
      ]
     },
     "metadata": {},
     "output_type": "display_data"
    },
    {
     "data": {
      "text/html": [
       "<img src=\"https://upload.wikimedia.org/wikipedia/commons/thumb/e/e6/ScottMurphy2009CampaignStop.jpg/600px-ScottMurphy2009CampaignStop.jpg\"/>"
      ],
      "text/plain": [
       "<IPython.core.display.Image object>"
      ]
     },
     "metadata": {},
     "output_type": "display_data"
    },
    {
     "data": {
      "text/html": [
       "<img src=\"https://upload.wikimedia.org/wikipedia/commons/thumb/2/2e/2009_Obama_inauguration_luncheon.jpg/600px-2009_Obama_inauguration_luncheon.jpg\"/>"
      ],
      "text/plain": [
       "<IPython.core.display.Image object>"
      ]
     },
     "metadata": {},
     "output_type": "display_data"
    },
    {
     "data": {
      "text/html": [
       "<img src=\"https://upload.wikimedia.org/wikipedia/commons/thumb/5/55/President_Barack_Obama%2C_2012_portrait_crop.jpg/600px-President_Barack_Obama%2C_2012_portrait_crop.jpg\"/>"
      ],
      "text/plain": [
       "<IPython.core.display.Image object>"
      ]
     },
     "metadata": {},
     "output_type": "display_data"
    }
   ],
   "source": [
    "pred = predictions[y.index(\"eea20277ca3be6faca8b1e90b8364294\")]\n",
    "pred_img = [i for i in images if get_id(i['filename']) in pred]\n",
    "for x in pred_img:\n",
    "    img_url = get_url(x['title'])\n",
    "    display(Image(url=img_url))"
   ]
  },
  {
   "cell_type": "code",
   "execution_count": 22,
   "metadata": {},
   "outputs": [],
   "source": [
    "del y\n",
    "del predictions\n",
    "del pred_img\n",
    "del pred"
   ]
  },
  {
   "cell_type": "markdown",
   "metadata": {},
   "source": [
    "### Well-performing case of 'Maserati MC12' article"
   ]
  },
  {
   "cell_type": "code",
   "execution_count": 23,
   "metadata": {},
   "outputs": [],
   "source": [
    "img_features = np.array([x[\"features\"] for x in images], dtype=np.float32)"
   ]
  },
  {
   "cell_type": "code",
   "execution_count": 24,
   "metadata": {},
   "outputs": [],
   "source": [
    "matched_article_id = 837  # get_matched_article_id(img_features, articles)"
   ]
  },
  {
   "cell_type": "code",
   "execution_count": 25,
   "metadata": {},
   "outputs": [
    {
     "name": "stdout",
     "output_type": "stream",
     "text": [
      "The Maserati MC12 Tipo M144S is a limited production twoseater sports car produced by Italian car maker Maserati to allow a racing variant to compete in the FIA GT Championship The car entered production in 2004 with 25 cars produced A further 25 were produced in 2005 making a total of 50 cars available for customers each of which was presold for €600000 US$670541 With the addition of 12 cars produced for racing only a total of 62 of these cars were ever produced  Maserati designed and built the car on the chassis of the Enzo Ferrari but the final car is much larger and has a lower drag coefficient The MC12 is longer wider and taller and has a sharper nose and smoother curves than the Enzo Ferrari which has faster acceleration better braking performance shorter braking distance and a higher top speed The top speed of the Maserati MC12 is 330 kilometres per hour 205 mph whereas the top speed of the Enzo Ferrari is 350 kilometres per hour 2175 mph  The MC12 was developed to signal\n",
      "WARNING:tensorflow:From /usr/local/lib/python2.7/dist-packages/keras/backend/tensorflow_backend.py:422: The name tf.global_variables is deprecated. Please use tf.compat.v1.global_variables instead.\n",
      "\n"
     ]
    },
    {
     "data": {
      "text/plain": [
       "array([[10.244272 ,  2.7473078,  6.2928286, ...,  4.8201237,  7.270011 ,\n",
       "         6.8462605]], dtype=float32)"
      ]
     },
     "execution_count": 25,
     "metadata": {},
     "output_type": "execute_result"
    }
   ],
   "source": [
    "# page = [x for x in articles if x[\"title\"] == \"Barack Obama\"][0]\n",
    "page = articles[matched_article_id]\n",
    "text = page[\"text\"]\n",
    "# text = page[\"img\"][1][\"description\"]\n",
    "print(text)\n",
    "rnn_vec, bow_w2v_vec = encode_text(opt, text2vec, bow2vec, w2v2vec, text)\n",
    "predicted_features = predictor.predict_one(rnn_vec, bow_w2v_vec).reshape(1, -1)\n",
    "predicted_features"
   ]
  },
  {
   "cell_type": "code",
   "execution_count": 26,
   "metadata": {},
   "outputs": [
    {
     "data": {
      "text/plain": [
       "array([-0.70040362, -0.59022799, -0.74309799, ..., -0.74211699,\n",
       "       -0.65287192, -0.81330535])"
      ]
     },
     "execution_count": 26,
     "metadata": {},
     "output_type": "execute_result"
    }
   ],
   "source": [
    "similarity = np.array(losser.calculate(predicted_features, img_features)[0])\n",
    "# res = res + 1\n",
    "similarity"
   ]
  },
  {
   "cell_type": "markdown",
   "metadata": {},
   "source": [
    "Double-checking that `similarity` and `img_features` have the same order"
   ]
  },
  {
   "cell_type": "code",
   "execution_count": 27,
   "metadata": {},
   "outputs": [
    {
     "name": "stdout",
     "output_type": "stream",
     "text": [
      "[-0.70040362 -0.59022799 -0.74309799]\n",
      "[-0.74211699 -0.65287192 -0.81330535]\n"
     ]
    }
   ],
   "source": [
    "print(similarity[:3])\n",
    "print(similarity[-3:])"
   ]
  },
  {
   "cell_type": "code",
   "execution_count": 28,
   "metadata": {},
   "outputs": [
    {
     "name": "stdout",
     "output_type": "stream",
     "text": [
      "[[-0.7004036208993722], [-0.590227985478179], [-0.7430979903591116]]\n",
      "[[-0.7421169916424962], [-0.6528719174246803], [-0.8133053530987427]]\n"
     ]
    }
   ],
   "source": [
    "print(losser.calculate(img_features[:3], predicted_features))\n",
    "print(losser.calculate(img_features[-3:], predicted_features))"
   ]
  },
  {
   "cell_type": "markdown",
   "metadata": {},
   "source": [
    "Double-checking that `images` and `img_features` have the same order"
   ]
  },
  {
   "cell_type": "code",
   "execution_count": 18,
   "metadata": {},
   "outputs": [
    {
     "data": {
      "text/plain": [
       "True"
      ]
     },
     "execution_count": 18,
     "metadata": {},
     "output_type": "execute_result"
    }
   ],
   "source": [
    "get_features = lambda img: np.array(img['features']).astype(np.float32)\n",
    "all([(get_features(images[i]) == img_features[i]).all() for i in range(len(images))])"
   ]
  },
  {
   "cell_type": "markdown",
   "metadata": {},
   "source": [
    "* 1 double check that we have the same order, because similarities are very big and results bad\n",
    "* 5 then if doesnt work, train on single image per article (the most relevant one)\n",
    "* 4 finish with text2text similarity (the last priority)\n",
    "* 2 identify article with high precision and check images (is it for real?)\n",
    "* 3 check that we have the same precision"
   ]
  },
  {
   "cell_type": "code",
   "execution_count": 29,
   "metadata": {},
   "outputs": [
    {
     "data": {
      "text/plain": [
       "(-0.9000764798330435, -0.19678824772487769)"
      ]
     },
     "execution_count": 29,
     "metadata": {},
     "output_type": "execute_result"
    }
   ],
   "source": [
    "min(similarity), max(similarity)"
   ]
  },
  {
   "cell_type": "code",
   "execution_count": 30,
   "metadata": {
    "scrolled": true
   },
   "outputs": [
    {
     "data": {
      "text/plain": [
       "u'Maserati MC12'"
      ]
     },
     "execution_count": 30,
     "metadata": {},
     "output_type": "execute_result"
    }
   ],
   "source": [
    "page[u\"title\"]"
   ]
  },
  {
   "cell_type": "markdown",
   "metadata": {},
   "source": [
    "Real images on `Maserati MC12` Wikipedia page"
   ]
  },
  {
   "cell_type": "code",
   "execution_count": 31,
   "metadata": {
    "scrolled": false
   },
   "outputs": [
    {
     "data": {
      "text/html": [
       "<img src=\"https://upload.wikimedia.org/wikipedia/commons/thumb/9/99/Chelsea_Auto_Legends_2012_%287948617098%29.jpg/600px-Chelsea_Auto_Legends_2012_%287948617098%29.jpg\"/>"
      ],
      "text/plain": [
       "<IPython.core.display.Image object>"
      ]
     },
     "metadata": {},
     "output_type": "display_data"
    },
    {
     "data": {
      "text/html": [
       "<img src=\"https://upload.wikimedia.org/wikipedia/commons/thumb/a/a5/Doran_Maserati.jpg/600px-Doran_Maserati.jpg\"/>"
      ],
      "text/plain": [
       "<IPython.core.display.Image object>"
      ]
     },
     "metadata": {},
     "output_type": "display_data"
    },
    {
     "data": {
      "text/html": [
       "<img src=\"https://upload.wikimedia.org/wikipedia/commons/thumb/5/51/MC12._%285234528513%29.jpg/600px-MC12._%285234528513%29.jpg\"/>"
      ],
      "text/plain": [
       "<IPython.core.display.Image object>"
      ]
     },
     "metadata": {},
     "output_type": "display_data"
    },
    {
     "data": {
      "text/html": [
       "<img src=\"https://upload.wikimedia.org/wikipedia/commons/thumb/c/cc/MC12_race_car_front.jpg/600px-MC12_race_car_front.jpg\"/>"
      ],
      "text/plain": [
       "<IPython.core.display.Image object>"
      ]
     },
     "metadata": {},
     "output_type": "display_data"
    },
    {
     "data": {
      "text/html": [
       "<img src=\"https://upload.wikimedia.org/wikipedia/commons/thumb/a/a4/MC12wheel.JPG/600px-MC12wheel.JPG.jpg\"/>"
      ],
      "text/plain": [
       "<IPython.core.display.Image object>"
      ]
     },
     "metadata": {},
     "output_type": "display_data"
    },
    {
     "data": {
      "text/html": [
       "<img src=\"https://upload.wikimedia.org/wikipedia/commons/thumb/3/3e/Maserati_MC12_%288675041842%29.jpg/600px-Maserati_MC12_%288675041842%29.jpg\"/>"
      ],
      "text/plain": [
       "<IPython.core.display.Image object>"
      ]
     },
     "metadata": {},
     "output_type": "display_data"
    },
    {
     "data": {
      "text/html": [
       "<img src=\"https://upload.wikimedia.org/wikipedia/commons/thumb/d/d3/Maserati_MC12_36643138.jpg/600px-Maserati_MC12_36643138.jpg\"/>"
      ],
      "text/plain": [
       "<IPython.core.display.Image object>"
      ]
     },
     "metadata": {},
     "output_type": "display_data"
    },
    {
     "data": {
      "text/html": [
       "<img src=\"https://upload.wikimedia.org/wikipedia/commons/thumb/a/a7/Maseratibirdcage.jpg/600px-Maseratibirdcage.jpg\"/>"
      ],
      "text/plain": [
       "<IPython.core.display.Image object>"
      ]
     },
     "metadata": {},
     "output_type": "display_data"
    },
    {
     "data": {
      "text/html": [
       "<img src=\"https://upload.wikimedia.org/wikipedia/commons/thumb/e/ea/Vitaphone_MC12_GT1.jpg/600px-Vitaphone_MC12_GT1.jpg\"/>"
      ],
      "text/plain": [
       "<IPython.core.display.Image object>"
      ]
     },
     "metadata": {},
     "output_type": "display_data"
    }
   ],
   "source": [
    "for x in page[\"img\"]:\n",
    "    img_url = get_url(x['title'])\n",
    "    display(Image(url=img_url))"
   ]
  },
  {
   "cell_type": "markdown",
   "metadata": {},
   "source": [
    "Top-10 ranked images predicted by the model for `Maserati MC12` page"
   ]
  },
  {
   "cell_type": "code",
   "execution_count": 32,
   "metadata": {
    "scrolled": true
   },
   "outputs": [
    {
     "name": "stdout",
     "output_type": "stream",
     "text": [
      "[-0.90007648 -0.89766622 -0.89473127 -0.89458867 -0.89275377 -0.89187519\n",
      " -0.89154553 -0.89129715 -0.89044287 -0.8899288 ]\n"
     ]
    }
   ],
   "source": [
    "print(similarity[similarity.argsort()[:10]])"
   ]
  },
  {
   "cell_type": "code",
   "execution_count": 33,
   "metadata": {
    "scrolled": false
   },
   "outputs": [
    {
     "data": {
      "text/html": [
       "<img src=\"https://upload.wikimedia.org/wikipedia/commons/thumb/d/d3/Maserati_MC12_36643138.jpg/600px-Maserati_MC12_36643138.jpg\"/>"
      ],
      "text/plain": [
       "<IPython.core.display.Image object>"
      ]
     },
     "metadata": {},
     "output_type": "display_data"
    },
    {
     "data": {
      "text/html": [
       "<img src=\"https://upload.wikimedia.org/wikipedia/commons/thumb/e/ea/Vitaphone_MC12_GT1.jpg/600px-Vitaphone_MC12_GT1.jpg\"/>"
      ],
      "text/plain": [
       "<IPython.core.display.Image object>"
      ]
     },
     "metadata": {},
     "output_type": "display_data"
    },
    {
     "data": {
      "text/html": [
       "<img src=\"https://upload.wikimedia.org/wikipedia/commons/thumb/e/ee/US_Army_51026_Edging_past_Kyle_Busch.jpg/600px-US_Army_51026_Edging_past_Kyle_Busch.jpg\"/>"
      ],
      "text/plain": [
       "<IPython.core.display.Image object>"
      ]
     },
     "metadata": {},
     "output_type": "display_data"
    },
    {
     "data": {
      "text/html": [
       "<img src=\"https://upload.wikimedia.org/wikipedia/commons/thumb/1/18/Kubica_Brazil_2008_pits.jpg/600px-Kubica_Brazil_2008_pits.jpg\"/>"
      ],
      "text/plain": [
       "<IPython.core.display.Image object>"
      ]
     },
     "metadata": {},
     "output_type": "display_data"
    },
    {
     "data": {
      "text/html": [
       "<img src=\"https://upload.wikimedia.org/wikipedia/commons/thumb/d/d2/Jazz-realcar.jpg/600px-Jazz-realcar.jpg\"/>"
      ],
      "text/plain": [
       "<IPython.core.display.Image object>"
      ]
     },
     "metadata": {},
     "output_type": "display_data"
    },
    {
     "data": {
      "text/html": [
       "<img src=\"https://upload.wikimedia.org/wikipedia/commons/thumb/3/3e/Maserati_MC12_%288675041842%29.jpg/600px-Maserati_MC12_%288675041842%29.jpg\"/>"
      ],
      "text/plain": [
       "<IPython.core.display.Image object>"
      ]
     },
     "metadata": {},
     "output_type": "display_data"
    },
    {
     "data": {
      "text/html": [
       "<img src=\"https://upload.wikimedia.org/wikipedia/commons/thumb/b/ba/Sunbeam_Tiger%283%29.jpg/600px-Sunbeam_Tiger%283%29.jpg\"/>"
      ],
      "text/plain": [
       "<IPython.core.display.Image object>"
      ]
     },
     "metadata": {},
     "output_type": "display_data"
    },
    {
     "data": {
      "text/html": [
       "<img src=\"https://upload.wikimedia.org/wikipedia/commons/thumb/e/e0/2008_HSV_Senator_%28E_Series_MY09%29_Signature_SV08_sedan_02.jpg/600px-2008_HSV_Senator_%28E_Series_MY09%29_Signature_SV08_sedan_02.jpg\"/>"
      ],
      "text/plain": [
       "<IPython.core.display.Image object>"
      ]
     },
     "metadata": {},
     "output_type": "display_data"
    },
    {
     "data": {
      "text/html": [
       "<img src=\"https://upload.wikimedia.org/wikipedia/commons/thumb/3/3f/1976-1977_Holden_HX_Monaro_GTS_sedan_01.jpg/600px-1976-1977_Holden_HX_Monaro_GTS_sedan_01.jpg\"/>"
      ],
      "text/plain": [
       "<IPython.core.display.Image object>"
      ]
     },
     "metadata": {},
     "output_type": "display_data"
    },
    {
     "data": {
      "text/html": [
       "<img src=\"https://upload.wikimedia.org/wikipedia/commons/thumb/b/bd/Chester_a_arthur_home.JPG/600px-Chester_a_arthur_home.JPG.jpg\"/>"
      ],
      "text/plain": [
       "<IPython.core.display.Image object>"
      ]
     },
     "metadata": {},
     "output_type": "display_data"
    }
   ],
   "source": [
    "for x in images[similarity.argsort()[:10]]:\n",
    "    img_url = get_url(x['title'])\n",
    "    display(Image(url=img_url))"
   ]
  },
  {
   "cell_type": "markdown",
   "metadata": {},
   "source": [
    "Note: in case of this article, when taking description of its images as an input, performance is poor"
   ]
  },
  {
   "cell_type": "markdown",
   "metadata": {},
   "source": [
    "### Random Article Performance"
   ]
  },
  {
   "cell_type": "code",
   "execution_count": 34,
   "metadata": {},
   "outputs": [],
   "source": [
    "def wiki_predict(page, topK=10):\n",
    "    text = page[\"text\"]\n",
    "    rnn_vec, bow_w2v_vec = encode_text(opt, text2vec, bow2vec, w2v2vec, text)\n",
    "    predicted_features = predictor.predict_one(rnn_vec, bow_w2v_vec).reshape(1, -1)\n",
    "\n",
    "    similarity = np.array(losser.calculate(predicted_features, img_features)[0])\n",
    "    true_img_url = [get_url(x[\"title\"]) for x in page[\"img\"]]\n",
    "    pred_img = images[similarity.argsort()[:topK]]\n",
    "    pred_img_url = [get_url(x[\"title\"]) for x in pred_img]\n",
    "    \n",
    "    return true_img_url, pred_img_url"
   ]
  },
  {
   "cell_type": "code",
   "execution_count": 36,
   "metadata": {},
   "outputs": [
    {
     "data": {
      "text/plain": [
       "u'Barack Hussein Obama II  January 20 2009 born August 4 1961 is an American attorney and politician who served as the 44th president of the United States from 2009 to 2017 A member of the Democratic Party he was the first African American to be elected to the presidency He previously served as a US senator from Illinois from 2005 to 2008 and an Illinois state senator from 1997 to 2004  Obama was born in Honolulu Hawaii After graduating from Columbia University in 1983 he worked as a community organizer in Chicago In 1988 he enrolled in Harvard Law School where he was the first black president of the Harvard Law Review After graduating he became a civil rights attorney and an academic teaching constitutional law at the University of Chicago Law School from 1992 to 2004 He represented the 13th district for three terms in the Illinois Senate from 1997 until 2004 when he ran for the US Senate He received national attention in 2004 with his March primary win his wellreceived July Democratic'"
      ]
     },
     "execution_count": 36,
     "metadata": {},
     "output_type": "execute_result"
    }
   ],
   "source": [
    "obama_page = [x for x in articles if x[\"title\"] == \"Barack Obama\"][0]\n",
    "obama_page[\"text\"]"
   ]
  },
  {
   "cell_type": "code",
   "execution_count": 35,
   "metadata": {
    "scrolled": false
   },
   "outputs": [
    {
     "data": {
      "text/html": [
       "<img src=\"https://upload.wikimedia.org/wikipedia/commons/thumb/e/ef/CM_Punk_2.jpg/600px-CM_Punk_2.jpg\"/>"
      ],
      "text/plain": [
       "<IPython.core.display.Image object>"
      ]
     },
     "metadata": {},
     "output_type": "display_data"
    },
    {
     "data": {
      "text/html": [
       "<img src=\"https://upload.wikimedia.org/wikipedia/commons/thumb/0/05/McCain25April2007Portsmouth.jpg/600px-McCain25April2007Portsmouth.jpg\"/>"
      ],
      "text/plain": [
       "<IPython.core.display.Image object>"
      ]
     },
     "metadata": {},
     "output_type": "display_data"
    },
    {
     "data": {
      "text/html": [
       "<img src=\"https://upload.wikimedia.org/wikipedia/commons/thumb/e/ed/National_Prayer_Service_Obama_Inauguration.jpg/600px-National_Prayer_Service_Obama_Inauguration.jpg\"/>"
      ],
      "text/plain": [
       "<IPython.core.display.Image object>"
      ]
     },
     "metadata": {},
     "output_type": "display_data"
    },
    {
     "data": {
      "text/html": [
       "<img src=\"https://upload.wikimedia.org/wikipedia/commons/thumb/1/10/ClintonSenate.jpg/600px-ClintonSenate.jpg\"/>"
      ],
      "text/plain": [
       "<IPython.core.display.Image object>"
      ]
     },
     "metadata": {},
     "output_type": "display_data"
    },
    {
     "data": {
      "text/html": [
       "<img src=\"https://upload.wikimedia.org/wikipedia/commons/thumb/d/de/RIAN_archive_837790_Valentina_Tereshkova_and_Neil_Armstrong.jpg/600px-RIAN_archive_837790_Valentina_Tereshkova_and_Neil_Armstrong.jpg\"/>"
      ],
      "text/plain": [
       "<IPython.core.display.Image object>"
      ]
     },
     "metadata": {},
     "output_type": "display_data"
    },
    {
     "data": {
      "text/html": [
       "<img src=\"https://upload.wikimedia.org/wikipedia/commons/thumb/d/d7/The-Dream_performing.jpg/600px-The-Dream_performing.jpg\"/>"
      ],
      "text/plain": [
       "<IPython.core.display.Image object>"
      ]
     },
     "metadata": {},
     "output_type": "display_data"
    },
    {
     "data": {
      "text/html": [
       "<img src=\"https://upload.wikimedia.org/wikipedia/commons/thumb/3/34/Punk_%26_Laurinaitis.jpg/600px-Punk_%26_Laurinaitis.jpg\"/>"
      ],
      "text/plain": [
       "<IPython.core.display.Image object>"
      ]
     },
     "metadata": {},
     "output_type": "display_data"
    },
    {
     "data": {
      "text/html": [
       "<img src=\"https://upload.wikimedia.org/wikipedia/commons/thumb/a/aa/Mark_Jindrak.jpg/600px-Mark_Jindrak.jpg\"/>"
      ],
      "text/plain": [
       "<IPython.core.display.Image object>"
      ]
     },
     "metadata": {},
     "output_type": "display_data"
    },
    {
     "data": {
      "text/html": [
       "<img src=\"https://upload.wikimedia.org/wikipedia/commons/thumb/8/8d/President_Barack_Obama.jpg/600px-President_Barack_Obama.jpg\"/>"
      ],
      "text/plain": [
       "<IPython.core.display.Image object>"
      ]
     },
     "metadata": {},
     "output_type": "display_data"
    },
    {
     "data": {
      "text/html": [
       "<img src=\"https://upload.wikimedia.org/wikipedia/commons/thumb/4/41/Michael_Jackson_2006.jpg/600px-Michael_Jackson_2006.jpg\"/>"
      ],
      "text/plain": [
       "<IPython.core.display.Image object>"
      ]
     },
     "metadata": {},
     "output_type": "display_data"
    }
   ],
   "source": [
    "true_img_url, pred_img_url = wiki_predict(obama_page)\n",
    "\n",
    "# Barack Obama's images\n",
    "for x in pred_img_url:\n",
    "    display(Image(url=x))"
   ]
  },
  {
   "cell_type": "markdown",
   "metadata": {},
   "source": [
    "**TODO:** Make sure you checking on examples from **test** subset"
   ]
  },
  {
   "cell_type": "markdown",
   "metadata": {},
   "source": [
    "## 3. Predict visual features of a novel sentence"
   ]
  },
  {
   "cell_type": "code",
   "execution_count": 26,
   "metadata": {},
   "outputs": [
    {
     "name": "stdout",
     "output_type": "stream",
     "text": [
      "2048\n",
      "[ 6.1648006  5.2095037  8.546985  ...  7.519165  10.404728   7.7131257]\n"
     ]
    }
   ],
   "source": [
    "sent='a dog is playing with a cat'\n",
    "rnn_vec, bow_w2v_vec = encode_text(opt,text2vec,bow2vec,w2v2vec,sent)\n",
    "predicted_text_feat = predictor.predict_one(rnn_vec,bow_w2v_vec)\n",
    "print len(predicted_text_feat)\n",
    "print predicted_text_feat"
   ]
  }
 ],
 "metadata": {
  "kernelspec": {
   "display_name": "Python 2",
   "language": "python",
   "name": "python2"
  },
  "language_info": {
   "codemirror_mode": {
    "name": "ipython",
    "version": 2
   },
   "file_extension": ".py",
   "mimetype": "text/x-python",
   "name": "python",
   "nbconvert_exporter": "python",
   "pygments_lexer": "ipython2",
   "version": "2.7.12"
  }
 },
 "nbformat": 4,
 "nbformat_minor": 2
}
